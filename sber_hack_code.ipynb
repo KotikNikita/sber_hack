{
 "cells": [
  {
   "cell_type": "markdown",
   "metadata": {},
   "source": [
    "# Import libraries"
   ]
  },
  {
   "cell_type": "code",
   "execution_count": 1,
   "metadata": {},
   "outputs": [],
   "source": [
    "# Plotting\n",
    "import matplotlib.pyplot as plt\n",
    "import seaborn as sns\n",
    "\n",
    "# ML preprocessing/optimizing\n",
    "from sklearn.model_selection import train_test_split\n",
    "from sklearn.model_selection import GridSearchCV\n",
    "from sklearn.model_selection import RandomizedSearchCV\n",
    "import shap\n",
    "\n",
    "\n",
    "# Scoring\n",
    "from sklearn.metrics import roc_auc_score\n",
    "\n",
    "# Data formatting/preprocessing\n",
    "import time \n",
    "import tqdm\n",
    "import pickle\n",
    "import numpy as np\n",
    "import pandas as pd\n",
    "\n",
    "\n",
    "# Ml models\n",
    "from sklearn.ensemble import RandomForestClassifier\n",
    "import xgboost as xgb\n",
    "import lightgbm as lgb\n",
    "import catboost as ctb\n",
    "\n",
    "### Advanse optimizing (HyperOpt Parameter Tuning)\n",
    "from hyperopt import tpe\n",
    "from hyperopt import STATUS_OK\n",
    "from hyperopt import Trials\n",
    "from hyperopt import hp\n",
    "from hyperopt import fmin\n",
    "\n",
    "## Useful\n",
    "#pd.set_option('display.max_columns', None)\n",
    "\n",
    "%matplotlib inline "
   ]
  },
  {
   "cell_type": "markdown",
   "metadata": {},
   "source": [
    "# Reading data"
   ]
  },
  {
   "cell_type": "code",
   "execution_count": 2,
   "metadata": {},
   "outputs": [],
   "source": [
    "with open('train_part1.pkl', 'rb') as f1:\n",
    "    train_part1 = pickle.load(f1)\n",
    "\n",
    "with open('train_part2.pkl', 'rb') as f2:\n",
    "    train_part2 = pickle.load(f2)\n",
    "    \n",
    "with open('test_data.pkl', 'rb') as f3:\n",
    "    test_data = pickle.load(f3)"
   ]
  },
  {
   "cell_type": "markdown",
   "metadata": {},
   "source": [
    "## Distribution of target"
   ]
  },
  {
   "cell_type": "code",
   "execution_count": 3,
   "metadata": {},
   "outputs": [
    {
     "data": {
      "text/plain": [
       "0    732535\n",
       "1     31266\n",
       "Name: TARGET, dtype: int64"
      ]
     },
     "execution_count": 3,
     "metadata": {},
     "output_type": "execute_result"
    }
   ],
   "source": [
    "train_part1.TARGET.value_counts()"
   ]
  },
  {
   "cell_type": "markdown",
   "metadata": {},
   "source": [
    "#### We can see class disbalance problem"
   ]
  },
  {
   "cell_type": "markdown",
   "metadata": {},
   "source": [
    "### Get only numerical columns at first"
   ]
  },
  {
   "cell_type": "code",
   "execution_count": 4,
   "metadata": {},
   "outputs": [],
   "source": [
    "df_numerics_only = train_part1.select_dtypes(include=np.number)\n",
    "target = df_numerics_only.TARGET\n",
    "\n",
    "df_numerics_only = df_numerics_only.apply(lambda x: x.fillna(x.mean()),axis=0)\n",
    "cols = df_numerics_only.columns\n",
    "l = []\n",
    "for i in range(len(cols)):\n",
    "    l.append(target.corr(df_numerics_only.loc[:,cols[i]]))"
   ]
  },
  {
   "cell_type": "markdown",
   "metadata": {},
   "source": [
    "### Correlation between target and numerical features"
   ]
  },
  {
   "cell_type": "code",
   "execution_count": 5,
   "metadata": {},
   "outputs": [
    {
     "data": {
      "image/png": "[encoded data removed]",
      "text/plain": [
       "<Figure size 432x288 with 1 Axes>"
      ]
     },
     "metadata": {
      "needs_background": "light"
     },
     "output_type": "display_data"
    }
   ],
   "source": [
    "corr_data = pd.DataFrame([cols, l]).T.iloc[:628,:].dropna()\n",
    "corr_data = corr_data.rename(columns={0:'feature', 1:'corr_with_target'})\n",
    "corr_data['corr_with_target'] = pd.to_numeric(corr_data['corr_with_target'])\n",
    "corr_data.plot();"
   ]
  },
  {
   "cell_type": "markdown",
   "metadata": {},
   "source": [
    "### Get the most largest and smallest correlations and corresponding features"
   ]
  },
  {
   "cell_type": "code",
   "execution_count": 6,
   "metadata": {},
   "outputs": [
    {
     "data": {
      "text/html": [
       "<div>\n",
       "<style scoped>\n",
       "    .dataframe tbody tr th:only-of-type {\n",
       "        vertical-align: middle;\n",
       "    }\n",
       "\n",
       "    .dataframe tbody tr th {\n",
       "        vertical-align: top;\n",
       "    }\n",
       "\n",
       "    .dataframe thead th {\n",
       "        text-align: right;\n",
       "    }\n",
       "</style>\n",
       "<table border=\"1\" class=\"dataframe\">\n",
       "  <thead>\n",
       "    <tr style=\"text-align: right;\">\n",
       "      <th></th>\n",
       "      <th>feature</th>\n",
       "      <th>corr_with_target</th>\n",
       "    </tr>\n",
       "  </thead>\n",
       "  <tbody>\n",
       "    <tr>\n",
       "      <th>274</th>\n",
       "      <td>x_286</td>\n",
       "      <td>0.121005</td>\n",
       "    </tr>\n",
       "    <tr>\n",
       "      <th>280</th>\n",
       "      <td>x_292</td>\n",
       "      <td>0.116459</td>\n",
       "    </tr>\n",
       "    <tr>\n",
       "      <th>318</th>\n",
       "      <td>x_330</td>\n",
       "      <td>0.109346</td>\n",
       "    </tr>\n",
       "    <tr>\n",
       "      <th>177</th>\n",
       "      <td>x_189</td>\n",
       "      <td>0.108632</td>\n",
       "    </tr>\n",
       "    <tr>\n",
       "      <th>409</th>\n",
       "      <td>x_421</td>\n",
       "      <td>0.102239</td>\n",
       "    </tr>\n",
       "    <tr>\n",
       "      <th>171</th>\n",
       "      <td>x_183</td>\n",
       "      <td>0.100842</td>\n",
       "    </tr>\n",
       "    <tr>\n",
       "      <th>68</th>\n",
       "      <td>x_80</td>\n",
       "      <td>0.088774</td>\n",
       "    </tr>\n",
       "    <tr>\n",
       "      <th>572</th>\n",
       "      <td>x_584</td>\n",
       "      <td>0.088426</td>\n",
       "    </tr>\n",
       "    <tr>\n",
       "      <th>408</th>\n",
       "      <td>x_420</td>\n",
       "      <td>0.087458</td>\n",
       "    </tr>\n",
       "    <tr>\n",
       "      <th>215</th>\n",
       "      <td>x_227</td>\n",
       "      <td>0.087346</td>\n",
       "    </tr>\n",
       "    <tr>\n",
       "      <th>624</th>\n",
       "      <td>x_643</td>\n",
       "      <td>0.087316</td>\n",
       "    </tr>\n",
       "    <tr>\n",
       "      <th>532</th>\n",
       "      <td>x_544</td>\n",
       "      <td>0.086933</td>\n",
       "    </tr>\n",
       "    <tr>\n",
       "      <th>112</th>\n",
       "      <td>x_124</td>\n",
       "      <td>0.086197</td>\n",
       "    </tr>\n",
       "    <tr>\n",
       "      <th>249</th>\n",
       "      <td>x_261</td>\n",
       "      <td>0.085102</td>\n",
       "    </tr>\n",
       "    <tr>\n",
       "      <th>466</th>\n",
       "      <td>x_478</td>\n",
       "      <td>0.083339</td>\n",
       "    </tr>\n",
       "  </tbody>\n",
       "</table>\n",
       "</div>"
      ],
      "text/plain": [
       "    feature  corr_with_target\n",
       "274   x_286          0.121005\n",
       "280   x_292          0.116459\n",
       "318   x_330          0.109346\n",
       "177   x_189          0.108632\n",
       "409   x_421          0.102239\n",
       "171   x_183          0.100842\n",
       "68     x_80          0.088774\n",
       "572   x_584          0.088426\n",
       "408   x_420          0.087458\n",
       "215   x_227          0.087346\n",
       "624   x_643          0.087316\n",
       "532   x_544          0.086933\n",
       "112   x_124          0.086197\n",
       "249   x_261          0.085102\n",
       "466   x_478          0.083339"
      ]
     },
     "execution_count": 6,
     "metadata": {},
     "output_type": "execute_result"
    }
   ],
   "source": [
    "corr_data.nlargest(15, 'corr_with_target')"
   ]
  },
  {
   "cell_type": "code",
   "execution_count": 7,
   "metadata": {},
   "outputs": [
    {
     "data": {
      "text/html": [
       "<div>\n",
       "<style scoped>\n",
       "    .dataframe tbody tr th:only-of-type {\n",
       "        vertical-align: middle;\n",
       "    }\n",
       "\n",
       "    .dataframe tbody tr th {\n",
       "        vertical-align: top;\n",
       "    }\n",
       "\n",
       "    .dataframe thead th {\n",
       "        text-align: right;\n",
       "    }\n",
       "</style>\n",
       "<table border=\"1\" class=\"dataframe\">\n",
       "  <thead>\n",
       "    <tr style=\"text-align: right;\">\n",
       "      <th></th>\n",
       "      <th>feature</th>\n",
       "      <th>corr_with_target</th>\n",
       "    </tr>\n",
       "  </thead>\n",
       "  <tbody>\n",
       "    <tr>\n",
       "      <th>279</th>\n",
       "      <td>x_291</td>\n",
       "      <td>-0.109343</td>\n",
       "    </tr>\n",
       "    <tr>\n",
       "      <th>612</th>\n",
       "      <td>x_630</td>\n",
       "      <td>-0.097946</td>\n",
       "    </tr>\n",
       "    <tr>\n",
       "      <th>176</th>\n",
       "      <td>x_188</td>\n",
       "      <td>-0.087319</td>\n",
       "    </tr>\n",
       "    <tr>\n",
       "      <th>73</th>\n",
       "      <td>x_85</td>\n",
       "      <td>-0.086197</td>\n",
       "    </tr>\n",
       "    <tr>\n",
       "      <th>410</th>\n",
       "      <td>x_422</td>\n",
       "      <td>-0.084399</td>\n",
       "    </tr>\n",
       "    <tr>\n",
       "      <th>334</th>\n",
       "      <td>x_346</td>\n",
       "      <td>-0.069840</td>\n",
       "    </tr>\n",
       "    <tr>\n",
       "      <th>531</th>\n",
       "      <td>x_543</td>\n",
       "      <td>-0.061604</td>\n",
       "    </tr>\n",
       "    <tr>\n",
       "      <th>122</th>\n",
       "      <td>x_134</td>\n",
       "      <td>-0.056354</td>\n",
       "    </tr>\n",
       "    <tr>\n",
       "      <th>225</th>\n",
       "      <td>x_237</td>\n",
       "      <td>-0.055390</td>\n",
       "    </tr>\n",
       "    <tr>\n",
       "      <th>358</th>\n",
       "      <td>x_370</td>\n",
       "      <td>-0.055001</td>\n",
       "    </tr>\n",
       "    <tr>\n",
       "      <th>254</th>\n",
       "      <td>x_266</td>\n",
       "      <td>-0.051904</td>\n",
       "    </tr>\n",
       "    <tr>\n",
       "      <th>240</th>\n",
       "      <td>x_252</td>\n",
       "      <td>-0.048928</td>\n",
       "    </tr>\n",
       "    <tr>\n",
       "      <th>346</th>\n",
       "      <td>x_358</td>\n",
       "      <td>-0.048446</td>\n",
       "    </tr>\n",
       "    <tr>\n",
       "      <th>48</th>\n",
       "      <td>x_60</td>\n",
       "      <td>-0.046113</td>\n",
       "    </tr>\n",
       "    <tr>\n",
       "      <th>9</th>\n",
       "      <td>x_14</td>\n",
       "      <td>-0.044104</td>\n",
       "    </tr>\n",
       "  </tbody>\n",
       "</table>\n",
       "</div>"
      ],
      "text/plain": [
       "    feature  corr_with_target\n",
       "279   x_291         -0.109343\n",
       "612   x_630         -0.097946\n",
       "176   x_188         -0.087319\n",
       "73     x_85         -0.086197\n",
       "410   x_422         -0.084399\n",
       "334   x_346         -0.069840\n",
       "531   x_543         -0.061604\n",
       "122   x_134         -0.056354\n",
       "225   x_237         -0.055390\n",
       "358   x_370         -0.055001\n",
       "254   x_266         -0.051904\n",
       "240   x_252         -0.048928\n",
       "346   x_358         -0.048446\n",
       "48     x_60         -0.046113\n",
       "9      x_14         -0.044104"
      ]
     },
     "execution_count": 7,
     "metadata": {},
     "output_type": "execute_result"
    }
   ],
   "source": [
    "corr_data.nsmallest(15, 'corr_with_target')"
   ]
  },
  {
   "cell_type": "markdown",
   "metadata": {},
   "source": [
    "#### The idea is that simple linear correlation can tell us what features have more significant linear dependence - these features from the first point of view are better and should be chosen"
   ]
  },
  {
   "cell_type": "markdown",
   "metadata": {},
   "source": [
    "# Lets handle with non-numeric data"
   ]
  },
  {
   "cell_type": "code",
   "execution_count": 8,
   "metadata": {},
   "outputs": [
    {
     "data": {
      "text/plain": [
       "(763801, 18)"
      ]
     },
     "execution_count": 8,
     "metadata": {},
     "output_type": "execute_result"
    }
   ],
   "source": [
    "train_part1.select_dtypes(exclude=np.number).shape"
   ]
  },
  {
   "cell_type": "markdown",
   "metadata": {},
   "source": [
    "#### There are only 18 columns that are non-numeric and shoud be preprocessed"
   ]
  },
  {
   "cell_type": "code",
   "execution_count": 9,
   "metadata": {},
   "outputs": [
    {
     "data": {
      "text/plain": [
       "Index(['REPORT_DT', 'x_9', 'x_12', 'x_13', 'x_17', 'x_18', 'x_19', 'x_21',\n",
       "       'x_25', 'x_26', 'x_27', 'x_614', 'x_615', 'x_617', 'x_618', 'x_625',\n",
       "       'x_628', 'x_634'],\n",
       "      dtype='object')"
      ]
     },
     "execution_count": 9,
     "metadata": {},
     "output_type": "execute_result"
    }
   ],
   "source": [
    "train_part1.select_dtypes(exclude=np.number).columns"
   ]
  },
  {
   "cell_type": "markdown",
   "metadata": {},
   "source": [
    "## Feature x_12 looks like credit rate"
   ]
  },
  {
   "cell_type": "code",
   "execution_count": 10,
   "metadata": {},
   "outputs": [
    {
     "data": {
      "text/html": [
       "<div>\n",
       "<style scoped>\n",
       "    .dataframe tbody tr th:only-of-type {\n",
       "        vertical-align: middle;\n",
       "    }\n",
       "\n",
       "    .dataframe tbody tr th {\n",
       "        vertical-align: top;\n",
       "    }\n",
       "\n",
       "    .dataframe thead th {\n",
       "        text-align: right;\n",
       "    }\n",
       "</style>\n",
       "<table border=\"1\" class=\"dataframe\">\n",
       "  <thead>\n",
       "    <tr style=\"text-align: right;\">\n",
       "      <th></th>\n",
       "      <th>0</th>\n",
       "      <th>1</th>\n",
       "    </tr>\n",
       "  </thead>\n",
       "  <tbody>\n",
       "    <tr>\n",
       "      <th>6</th>\n",
       "      <td>A1</td>\n",
       "      <td>0.019427</td>\n",
       "    </tr>\n",
       "    <tr>\n",
       "      <th>3</th>\n",
       "      <td>A</td>\n",
       "      <td>0.030718</td>\n",
       "    </tr>\n",
       "    <tr>\n",
       "      <th>0</th>\n",
       "      <td>B1</td>\n",
       "      <td>0.03394</td>\n",
       "    </tr>\n",
       "    <tr>\n",
       "      <th>5</th>\n",
       "      <td>B</td>\n",
       "      <td>0.042134</td>\n",
       "    </tr>\n",
       "    <tr>\n",
       "      <th>1</th>\n",
       "      <td>D</td>\n",
       "      <td>0.049258</td>\n",
       "    </tr>\n",
       "    <tr>\n",
       "      <th>4</th>\n",
       "      <td>C</td>\n",
       "      <td>0.050675</td>\n",
       "    </tr>\n",
       "    <tr>\n",
       "      <th>2</th>\n",
       "      <td>N</td>\n",
       "      <td>0.059137</td>\n",
       "    </tr>\n",
       "  </tbody>\n",
       "</table>\n",
       "</div>"
      ],
      "text/plain": [
       "    0         1\n",
       "6  A1  0.019427\n",
       "3   A  0.030718\n",
       "0  B1   0.03394\n",
       "5   B  0.042134\n",
       "1   D  0.049258\n",
       "4   C  0.050675\n",
       "2   N  0.059137"
      ]
     },
     "execution_count": 10,
     "metadata": {},
     "output_type": "execute_result"
    }
   ],
   "source": [
    "a = []\n",
    "for i in train_part1.select_dtypes(exclude=np.number).x_12.unique():\n",
    "    a.append(train_part1[train_part1['x_12'] == i].TARGET.mean())\n",
    "\n",
    "res = pd.DataFrame([train_part1.select_dtypes(exclude=np.number).x_12.unique(), a])    \n",
    "res.T.sort_values(by = 1)"
   ]
  },
  {
   "cell_type": "markdown",
   "metadata": {},
   "source": [
    "#### Looks like our hypothesis is right"
   ]
  },
  {
   "cell_type": "markdown",
   "metadata": {},
   "source": [
    "## For x_12 we will do a mapping - replace letters by mean values (it is a good idea because it has an order)"
   ]
  },
  {
   "cell_type": "markdown",
   "metadata": {},
   "source": [
    "### x_18"
   ]
  },
  {
   "cell_type": "code",
   "execution_count": 11,
   "metadata": {},
   "outputs": [
    {
     "data": {
      "text/plain": [
       "Вт    149381\n",
       "Ср    147631\n",
       "Чт    142560\n",
       "Пн    137282\n",
       "Пт    131018\n",
       "Сб     49719\n",
       "Вс      6210\n",
       "Name: x_18, dtype: int64"
      ]
     },
     "execution_count": 11,
     "metadata": {},
     "output_type": "execute_result"
    }
   ],
   "source": [
    "train_part1.select_dtypes(exclude=np.number).x_18.value_counts()"
   ]
  },
  {
   "cell_type": "code",
   "execution_count": 12,
   "metadata": {},
   "outputs": [
    {
     "data": {
      "text/html": [
       "<div>\n",
       "<style scoped>\n",
       "    .dataframe tbody tr th:only-of-type {\n",
       "        vertical-align: middle;\n",
       "    }\n",
       "\n",
       "    .dataframe tbody tr th {\n",
       "        vertical-align: top;\n",
       "    }\n",
       "\n",
       "    .dataframe thead th {\n",
       "        text-align: right;\n",
       "    }\n",
       "</style>\n",
       "<table border=\"1\" class=\"dataframe\">\n",
       "  <thead>\n",
       "    <tr style=\"text-align: right;\">\n",
       "      <th></th>\n",
       "      <th>0</th>\n",
       "      <th>1</th>\n",
       "    </tr>\n",
       "  </thead>\n",
       "  <tbody>\n",
       "    <tr>\n",
       "      <th>6</th>\n",
       "      <td>Вс</td>\n",
       "      <td>0.031562</td>\n",
       "    </tr>\n",
       "    <tr>\n",
       "      <th>5</th>\n",
       "      <td>Сб</td>\n",
       "      <td>0.035158</td>\n",
       "    </tr>\n",
       "    <tr>\n",
       "      <th>0</th>\n",
       "      <td>Пн</td>\n",
       "      <td>0.039736</td>\n",
       "    </tr>\n",
       "    <tr>\n",
       "      <th>1</th>\n",
       "      <td>Чт</td>\n",
       "      <td>0.040383</td>\n",
       "    </tr>\n",
       "    <tr>\n",
       "      <th>4</th>\n",
       "      <td>Вт</td>\n",
       "      <td>0.040936</td>\n",
       "    </tr>\n",
       "    <tr>\n",
       "      <th>3</th>\n",
       "      <td>Пт</td>\n",
       "      <td>0.04275</td>\n",
       "    </tr>\n",
       "    <tr>\n",
       "      <th>2</th>\n",
       "      <td>Ср</td>\n",
       "      <td>0.043311</td>\n",
       "    </tr>\n",
       "  </tbody>\n",
       "</table>\n",
       "</div>"
      ],
      "text/plain": [
       "    0         1\n",
       "6  Вс  0.031562\n",
       "5  Сб  0.035158\n",
       "0  Пн  0.039736\n",
       "1  Чт  0.040383\n",
       "4  Вт  0.040936\n",
       "3  Пт   0.04275\n",
       "2  Ср  0.043311"
      ]
     },
     "execution_count": 12,
     "metadata": {},
     "output_type": "execute_result"
    }
   ],
   "source": [
    "a = []\n",
    "for i in train_part1.select_dtypes(exclude=np.number).x_18.unique():\n",
    "    a.append(train_part1[train_part1['x_18'] == i].TARGET.mean())\n",
    "\n",
    "res = pd.DataFrame([train_part1.select_dtypes(exclude=np.number).x_18.unique(), a])    \n",
    "res.T.sort_values(by = 1)"
   ]
  },
  {
   "cell_type": "markdown",
   "metadata": {},
   "source": [
    "#### Looks like weekends positively reflects on credibility"
   ]
  },
  {
   "cell_type": "markdown",
   "metadata": {},
   "source": [
    "### x_19"
   ]
  },
  {
   "cell_type": "code",
   "execution_count": 13,
   "metadata": {},
   "outputs": [],
   "source": [
    "def rating_mean(name):\n",
    "    a = []\n",
    "    for i in train_part1.select_dtypes(exclude=np.number)['{}'.format(name)].unique():\n",
    "        a.append(train_part1[train_part1['{}'.format(name)] == i].TARGET.mean())\n",
    "\n",
    "    res = pd.DataFrame([train_part1.select_dtypes(exclude=np.number)['{}'.format(name)].unique(), a])    \n",
    "    res=res.T.sort_values(by = 1)\n",
    "    return res"
   ]
  },
  {
   "cell_type": "markdown",
   "metadata": {},
   "source": [
    "# Check how can we replace non-numeric labels by counting mean statistics"
   ]
  },
  {
   "cell_type": "code",
   "execution_count": 14,
   "metadata": {
    "scrolled": false
   },
   "outputs": [
    {
     "name": "stdout",
     "output_type": "stream",
     "text": [
      "non numeric feature REPORT_DT\n",
      "             0         1\n",
      "513 2017-04-07       0.0\n",
      "813 2017-08-25       0.0\n",
      "814 2018-09-14       0.0\n",
      "815 2018-03-31       0.0\n",
      "816 2019-01-12       0.0\n",
      "..         ...       ...\n",
      "13  2017-07-03  0.068541\n",
      "440 2017-04-10  0.069372\n",
      "749 2017-07-10  0.070243\n",
      "286 2017-08-29  0.074457\n",
      "657 2017-03-06  0.083333\n",
      "\n",
      "[1028 rows x 2 columns]\n",
      "##############################################\n",
      "non numeric feature x_9\n",
      "              0      1\n",
      "1595 2015-01-06    0.0\n",
      "690  2017-07-08    0.0\n",
      "1663 2016-09-25    0.0\n",
      "1662 2012-10-26    0.0\n",
      "1661 2017-06-11    0.0\n",
      "...         ...    ...\n",
      "1644 2012-06-14  0.625\n",
      "1636 2016-01-24    0.9\n",
      "1834 2014-08-31    1.0\n",
      "1869 2013-10-20    1.0\n",
      "1872 2013-05-01    1.0\n",
      "\n",
      "[1873 rows x 2 columns]\n",
      "##############################################\n",
      "non numeric feature x_12\n",
      "    0         1\n",
      "6  A1  0.019427\n",
      "3   A  0.030718\n",
      "0  B1   0.03394\n",
      "5   B  0.042134\n",
      "1   D  0.049258\n",
      "4   C  0.050675\n",
      "2   N  0.059137\n",
      "##############################################\n",
      "non numeric feature x_13\n",
      "     0         1\n",
      "6   19       0.0\n",
      "7    3       0.0\n",
      "1    1   0.03625\n",
      "3    5  0.042838\n",
      "0    4  0.043497\n",
      "2    2  0.043583\n",
      "4    9  0.055659\n",
      "5  NaN       NaN\n",
      "##############################################\n",
      "non numeric feature x_17\n",
      "    0   1\n",
      "0 NaN NaN\n",
      "##############################################\n",
      "non numeric feature x_18\n",
      "    0         1\n",
      "6  Вс  0.031562\n",
      "5  Сб  0.035158\n",
      "0  Пн  0.039736\n",
      "1  Чт  0.040383\n",
      "4  Вт  0.040936\n",
      "3  Пт   0.04275\n",
      "2  Ср  0.043311\n",
      "##############################################\n",
      "non numeric feature x_19\n",
      "   0         1\n",
      "1  0  0.037364\n",
      "0  1  0.044256\n",
      "##############################################\n",
      "non numeric feature x_21\n",
      "                                         0         1\n",
      "4                         Рефинансирование  0.009902\n",
      "1                           Инвестирование  0.028449\n",
      "0                             Приобретение  0.046135\n",
      "3  Нецелевой кредит под залог недвижимости  0.060576\n",
      "2             Индивидуальное строительство  0.086406\n",
      "##############################################\n",
      "non numeric feature x_25\n",
      "    0   1\n",
      "0 NaN NaN\n",
      "##############################################\n",
      "non numeric feature x_26\n",
      "    0   1\n",
      "0 NaN NaN\n",
      "##############################################\n",
      "non numeric feature x_27\n",
      "    0   1\n",
      "0 NaN NaN\n",
      "##############################################\n",
      "non numeric feature x_614\n",
      "   0         1\n",
      "0  1  0.038552\n",
      "1  0  0.045624\n",
      "##############################################\n",
      "non numeric feature x_615\n",
      "   0         1\n",
      "1  0  0.037364\n",
      "0  1  0.044256\n",
      "##############################################\n",
      "non numeric feature x_617\n",
      "     0         1\n",
      "6   19       0.0\n",
      "7    3       0.0\n",
      "1    1   0.03625\n",
      "3    5  0.042838\n",
      "0    4  0.043497\n",
      "2    2  0.043583\n",
      "4    9  0.055659\n",
      "5  NaN       NaN\n",
      "##############################################\n",
      "non numeric feature x_618\n",
      "                                         0         1\n",
      "4                         Рефинансирование  0.009902\n",
      "1                           Инвестирование  0.028449\n",
      "0                             Приобретение  0.046135\n",
      "3  Нецелевой кредит под залог недвижимости  0.060576\n",
      "2             Индивидуальное строительство  0.086406\n",
      "##############################################\n",
      "non numeric feature x_625\n",
      "                         0         1\n",
      "0  living in city in apart  0.036371\n",
      "1                    other  0.049473\n",
      "##############################################\n",
      "non numeric feature x_628\n",
      "            0         1\n",
      "2  Сотрудники  0.030718\n",
      "0          ЗП   0.03401\n",
      "1       Улица  0.049625\n",
      "##############################################\n",
      "non numeric feature x_634\n",
      "   0         1\n",
      "1  1   0.03546\n",
      "0  0  0.043344\n",
      "##############################################\n"
     ]
    }
   ],
   "source": [
    "for i in train_part1.select_dtypes(exclude=np.number).columns:\n",
    "    try:\n",
    "        print('non numeric feature {}'.format(i))\n",
    "        print(rating_mean(i))\n",
    "        print(\"##############################################\")\n",
    "    except ValueError: \n",
    "        pass"
   ]
  },
  {
   "cell_type": "markdown",
   "metadata": {},
   "source": [
    "## drop due to non informativity: x_25, x_26, x_27, x_617 "
   ]
  },
  {
   "cell_type": "code",
   "execution_count": 15,
   "metadata": {},
   "outputs": [
    {
     "data": {
      "text/plain": [
       "4     448421\n",
       "1     270181\n",
       "2      36367\n",
       "5       8217\n",
       "9        539\n",
       "3         14\n",
       "19        12\n",
       "Name: x_617, dtype: int64"
      ]
     },
     "execution_count": 15,
     "metadata": {},
     "output_type": "execute_result"
    }
   ],
   "source": [
    "train_part1.x_617.value_counts()"
   ]
  },
  {
   "cell_type": "markdown",
   "metadata": {},
   "source": [
    "### x_617 = x_13 - if 1 then less probability to default than others"
   ]
  },
  {
   "cell_type": "code",
   "execution_count": 16,
   "metadata": {},
   "outputs": [
    {
     "data": {
      "text/plain": [
       "4     448421\n",
       "1     270181\n",
       "2      36367\n",
       "5       8217\n",
       "9        539\n",
       "3         14\n",
       "19        12\n",
       "Name: x_13, dtype: int64"
      ]
     },
     "execution_count": 16,
     "metadata": {},
     "output_type": "execute_result"
    }
   ],
   "source": [
    "train_part1.x_13.value_counts()"
   ]
  },
  {
   "cell_type": "markdown",
   "metadata": {},
   "source": [
    "#### observing results from above lets name perspectively_signif_non_num_features"
   ]
  },
  {
   "cell_type": "code",
   "execution_count": 17,
   "metadata": {},
   "outputs": [],
   "source": [
    "perspectively_signif_non_num_features = ['x_12', 'x_13', 'x_18', 'x_19', 'x_21', 'x_614', 'x_615', 'x_625',\n",
    "                                         'x_628', 'x_634']"
   ]
  },
  {
   "cell_type": "markdown",
   "metadata": {},
   "source": [
    "## prepare them"
   ]
  },
  {
   "cell_type": "markdown",
   "metadata": {},
   "source": [
    "### bineries"
   ]
  },
  {
   "cell_type": "code",
   "execution_count": 18,
   "metadata": {},
   "outputs": [],
   "source": [
    "binaries = ['x_19', 'x_614', 'x_615', 'x_634']"
   ]
  },
  {
   "cell_type": "code",
   "execution_count": 19,
   "metadata": {},
   "outputs": [],
   "source": [
    "train_part1[binaries] = train_part1[binaries].apply(pd.to_numeric)"
   ]
  },
  {
   "cell_type": "markdown",
   "metadata": {},
   "source": [
    "### Very significant"
   ]
  },
  {
   "cell_type": "markdown",
   "metadata": {},
   "source": [
    "#### 1) rating"
   ]
  },
  {
   "cell_type": "code",
   "execution_count": 20,
   "metadata": {},
   "outputs": [],
   "source": [
    "mapping = rating_mean('x_12')"
   ]
  },
  {
   "cell_type": "code",
   "execution_count": 21,
   "metadata": {},
   "outputs": [
    {
     "ename": "AttributeError",
     "evalue": "'Series' object has no attribute '_replace_columnwise'",
     "output_type": "error",
     "traceback": [
      "\u001b[0;31m---------------------------------------------------------------------------\u001b[0m",
      "\u001b[0;31mAttributeError\u001b[0m                            Traceback (most recent call last)",
      "\u001b[0;32m<ipython-input-21-ba48fea02017>\u001b[0m in \u001b[0;36m<module>\u001b[0;34m\u001b[0m\n\u001b[0;32m----> 1\u001b[0;31m \u001b[0mtrain_part1\u001b[0m\u001b[0;34m[\u001b[0m\u001b[0;34m'x_12'\u001b[0m\u001b[0;34m]\u001b[0m\u001b[0;34m.\u001b[0m\u001b[0mreplace\u001b[0m\u001b[0;34m(\u001b[0m\u001b[0mmapping\u001b[0m\u001b[0;34m,\u001b[0m \u001b[0minplace\u001b[0m\u001b[0;34m=\u001b[0m\u001b[0;32mTrue\u001b[0m\u001b[0;34m)\u001b[0m\u001b[0;34m\u001b[0m\u001b[0;34m\u001b[0m\u001b[0m\n\u001b[0m",
      "\u001b[0;32m/opt/anaconda3/lib/python3.8/site-packages/pandas/core/series.py\u001b[0m in \u001b[0;36mreplace\u001b[0;34m(self, to_replace, value, inplace, limit, regex, method)\u001b[0m\n\u001b[1;32m   4866\u001b[0m         \u001b[0mmethod\u001b[0m\u001b[0;34m=\u001b[0m\u001b[0;34m\"pad\"\u001b[0m\u001b[0;34m,\u001b[0m\u001b[0;34m\u001b[0m\u001b[0;34m\u001b[0m\u001b[0m\n\u001b[1;32m   4867\u001b[0m     ):\n\u001b[0;32m-> 4868\u001b[0;31m         return super().replace(\n\u001b[0m\u001b[1;32m   4869\u001b[0m             \u001b[0mto_replace\u001b[0m\u001b[0;34m=\u001b[0m\u001b[0mto_replace\u001b[0m\u001b[0;34m,\u001b[0m\u001b[0;34m\u001b[0m\u001b[0;34m\u001b[0m\u001b[0m\n\u001b[1;32m   4870\u001b[0m             \u001b[0mvalue\u001b[0m\u001b[0;34m=\u001b[0m\u001b[0mvalue\u001b[0m\u001b[0;34m,\u001b[0m\u001b[0;34m\u001b[0m\u001b[0;34m\u001b[0m\u001b[0m\n",
      "\u001b[0;32m/opt/anaconda3/lib/python3.8/site-packages/pandas/core/generic.py\u001b[0m in \u001b[0;36mreplace\u001b[0;34m(self, to_replace, value, inplace, limit, regex, method)\u001b[0m\n\u001b[1;32m   6523\u001b[0m                 \u001b[0mto_replace\u001b[0m\u001b[0;34m,\u001b[0m \u001b[0mvalue\u001b[0m \u001b[0;34m=\u001b[0m \u001b[0mkeys\u001b[0m\u001b[0;34m,\u001b[0m \u001b[0mvalues\u001b[0m\u001b[0;34m\u001b[0m\u001b[0;34m\u001b[0m\u001b[0m\n\u001b[1;32m   6524\u001b[0m \u001b[0;34m\u001b[0m\u001b[0m\n\u001b[0;32m-> 6525\u001b[0;31m             return self.replace(\n\u001b[0m\u001b[1;32m   6526\u001b[0m                 \u001b[0mto_replace\u001b[0m\u001b[0;34m,\u001b[0m \u001b[0mvalue\u001b[0m\u001b[0;34m,\u001b[0m \u001b[0minplace\u001b[0m\u001b[0;34m=\u001b[0m\u001b[0minplace\u001b[0m\u001b[0;34m,\u001b[0m \u001b[0mlimit\u001b[0m\u001b[0;34m=\u001b[0m\u001b[0mlimit\u001b[0m\u001b[0;34m,\u001b[0m \u001b[0mregex\u001b[0m\u001b[0;34m=\u001b[0m\u001b[0mregex\u001b[0m\u001b[0;34m\u001b[0m\u001b[0;34m\u001b[0m\u001b[0m\n\u001b[1;32m   6527\u001b[0m             )\n",
      "\u001b[0;32m/opt/anaconda3/lib/python3.8/site-packages/pandas/core/series.py\u001b[0m in \u001b[0;36mreplace\u001b[0;34m(self, to_replace, value, inplace, limit, regex, method)\u001b[0m\n\u001b[1;32m   4866\u001b[0m         \u001b[0mmethod\u001b[0m\u001b[0;34m=\u001b[0m\u001b[0;34m\"pad\"\u001b[0m\u001b[0;34m,\u001b[0m\u001b[0;34m\u001b[0m\u001b[0;34m\u001b[0m\u001b[0m\n\u001b[1;32m   4867\u001b[0m     ):\n\u001b[0;32m-> 4868\u001b[0;31m         return super().replace(\n\u001b[0m\u001b[1;32m   4869\u001b[0m             \u001b[0mto_replace\u001b[0m\u001b[0;34m=\u001b[0m\u001b[0mto_replace\u001b[0m\u001b[0;34m,\u001b[0m\u001b[0;34m\u001b[0m\u001b[0;34m\u001b[0m\u001b[0m\n\u001b[1;32m   4870\u001b[0m             \u001b[0mvalue\u001b[0m\u001b[0;34m=\u001b[0m\u001b[0mvalue\u001b[0m\u001b[0;34m,\u001b[0m\u001b[0;34m\u001b[0m\u001b[0;34m\u001b[0m\u001b[0m\n",
      "\u001b[0;32m/opt/anaconda3/lib/python3.8/site-packages/pandas/core/generic.py\u001b[0m in \u001b[0;36mreplace\u001b[0;34m(self, to_replace, value, inplace, limit, regex, method)\u001b[0m\n\u001b[1;32m   6543\u001b[0m                         \u001b[0;32mif\u001b[0m \u001b[0mcol\u001b[0m \u001b[0;32min\u001b[0m \u001b[0mvalue\u001b[0m\u001b[0;34m.\u001b[0m\u001b[0mkeys\u001b[0m\u001b[0;34m(\u001b[0m\u001b[0;34m)\u001b[0m \u001b[0;32mand\u001b[0m \u001b[0mcol\u001b[0m \u001b[0;32min\u001b[0m \u001b[0mself\u001b[0m\u001b[0;34m\u001b[0m\u001b[0;34m\u001b[0m\u001b[0m\n\u001b[1;32m   6544\u001b[0m                     }\n\u001b[0;32m-> 6545\u001b[0;31m                     \u001b[0;32mreturn\u001b[0m \u001b[0mself\u001b[0m\u001b[0;34m.\u001b[0m\u001b[0m_replace_columnwise\u001b[0m\u001b[0;34m(\u001b[0m\u001b[0mmapping\u001b[0m\u001b[0;34m,\u001b[0m \u001b[0minplace\u001b[0m\u001b[0;34m,\u001b[0m \u001b[0mregex\u001b[0m\u001b[0;34m)\u001b[0m\u001b[0;34m\u001b[0m\u001b[0;34m\u001b[0m\u001b[0m\n\u001b[0m\u001b[1;32m   6546\u001b[0m \u001b[0;34m\u001b[0m\u001b[0m\n\u001b[1;32m   6547\u001b[0m                 \u001b[0;31m# {'A': NA} -> 0\u001b[0m\u001b[0;34m\u001b[0m\u001b[0;34m\u001b[0m\u001b[0;34m\u001b[0m\u001b[0m\n",
      "\u001b[0;32m/opt/anaconda3/lib/python3.8/site-packages/pandas/core/generic.py\u001b[0m in \u001b[0;36m__getattr__\u001b[0;34m(self, name)\u001b[0m\n\u001b[1;32m   5485\u001b[0m         ):\n\u001b[1;32m   5486\u001b[0m             \u001b[0;32mreturn\u001b[0m \u001b[0mself\u001b[0m\u001b[0;34m[\u001b[0m\u001b[0mname\u001b[0m\u001b[0;34m]\u001b[0m\u001b[0;34m\u001b[0m\u001b[0;34m\u001b[0m\u001b[0m\n\u001b[0;32m-> 5487\u001b[0;31m         \u001b[0;32mreturn\u001b[0m \u001b[0mobject\u001b[0m\u001b[0;34m.\u001b[0m\u001b[0m__getattribute__\u001b[0m\u001b[0;34m(\u001b[0m\u001b[0mself\u001b[0m\u001b[0;34m,\u001b[0m \u001b[0mname\u001b[0m\u001b[0;34m)\u001b[0m\u001b[0;34m\u001b[0m\u001b[0;34m\u001b[0m\u001b[0m\n\u001b[0m\u001b[1;32m   5488\u001b[0m \u001b[0;34m\u001b[0m\u001b[0m\n\u001b[1;32m   5489\u001b[0m     \u001b[0;32mdef\u001b[0m \u001b[0m__setattr__\u001b[0m\u001b[0;34m(\u001b[0m\u001b[0mself\u001b[0m\u001b[0;34m,\u001b[0m \u001b[0mname\u001b[0m\u001b[0;34m:\u001b[0m \u001b[0mstr\u001b[0m\u001b[0;34m,\u001b[0m \u001b[0mvalue\u001b[0m\u001b[0;34m)\u001b[0m \u001b[0;34m->\u001b[0m \u001b[0;32mNone\u001b[0m\u001b[0;34m:\u001b[0m\u001b[0;34m\u001b[0m\u001b[0;34m\u001b[0m\u001b[0m\n",
      "\u001b[0;31mAttributeError\u001b[0m: 'Series' object has no attribute '_replace_columnwise'"
     ]
    }
   ],
   "source": [
    "train_part1['x_12'].replace(mapping, inplace=True)"
   ]
  },
  {
   "cell_type": "markdown",
   "metadata": {},
   "source": [
    "#### 2) day of week"
   ]
  },
  {
   "cell_type": "code",
   "execution_count": null,
   "metadata": {},
   "outputs": [],
   "source": [
    "map_x_18 = rating_mean('x_18')\n",
    "map_x_18"
   ]
  },
  {
   "cell_type": "code",
   "execution_count": null,
   "metadata": {},
   "outputs": [],
   "source": [
    "not_weekend = train_part1[((train_part1['x_18'] != 'Вс') & (train_part1['x_18'] != 'Сб'))].TARGET.mean()\n",
    "weekend = train_part1[((train_part1['x_18'] == 'Вс') | (train_part1['x_18'] == 'Сб'))].TARGET.mean()"
   ]
  },
  {
   "cell_type": "code",
   "execution_count": null,
   "metadata": {},
   "outputs": [],
   "source": [
    "map_18 = {'Вс':weekend, \n",
    "         'Сб':weekend,\n",
    "         'Пн':not_weekend,\n",
    "         'Чт':not_weekend,\n",
    "         'Вт':not_weekend,\n",
    "         'Пт':not_weekend,\n",
    "         'Ср':not_weekend}"
   ]
  },
  {
   "cell_type": "code",
   "execution_count": null,
   "metadata": {},
   "outputs": [],
   "source": [
    "train_part1['x_18'].replace(map_18, inplace=True)"
   ]
  },
  {
   "cell_type": "markdown",
   "metadata": {},
   "source": [
    "#### 3) x_13"
   ]
  },
  {
   "cell_type": "code",
   "execution_count": null,
   "metadata": {},
   "outputs": [],
   "source": [
    "map_x_13 = rating_mean('x_13')\n",
    "map_x_13"
   ]
  },
  {
   "cell_type": "code",
   "execution_count": null,
   "metadata": {},
   "outputs": [],
   "source": [
    "not_1 = train_part1[train_part1['x_13'] != '1'].TARGET.mean()\n",
    "map_13 = {'1':map_x_13.iloc[2,1], \n",
    "         '2':not_1,\n",
    "         '3':not_1,\n",
    "         '4':not_1,\n",
    "         '5':not_1,\n",
    "         '9':not_1,\n",
    "         '19':not_1}"
   ]
  },
  {
   "cell_type": "code",
   "execution_count": null,
   "metadata": {},
   "outputs": [],
   "source": [
    "train_part1['x_13'].replace(map_13, inplace=True)"
   ]
  },
  {
   "cell_type": "markdown",
   "metadata": {},
   "source": [
    "## Target of credit (x_21)"
   ]
  },
  {
   "cell_type": "code",
   "execution_count": null,
   "metadata": {},
   "outputs": [],
   "source": [
    "x_21 = rating_mean('x_21')"
   ]
  },
  {
   "cell_type": "code",
   "execution_count": null,
   "metadata": {},
   "outputs": [],
   "source": [
    "map_21 = x_21.set_index(0).to_dict()[1]"
   ]
  },
  {
   "cell_type": "code",
   "execution_count": null,
   "metadata": {},
   "outputs": [],
   "source": [
    "train_part1['x_21'].replace(map_21, inplace=True)"
   ]
  },
  {
   "cell_type": "markdown",
   "metadata": {},
   "source": [
    "### Town or not (x_625)"
   ]
  },
  {
   "cell_type": "code",
   "execution_count": null,
   "metadata": {},
   "outputs": [],
   "source": [
    "x_625 = rating_mean('x_625')\n",
    "x_625"
   ]
  },
  {
   "cell_type": "code",
   "execution_count": null,
   "metadata": {},
   "outputs": [],
   "source": [
    "map_625 = x_625.set_index(0).to_dict()[1]"
   ]
  },
  {
   "cell_type": "code",
   "execution_count": null,
   "metadata": {},
   "outputs": [],
   "source": [
    "train_part1['x_625'].replace(map_625, inplace=True)"
   ]
  },
  {
   "cell_type": "markdown",
   "metadata": {},
   "source": [
    "## Street or ЗП or сотрудник (628)"
   ]
  },
  {
   "cell_type": "code",
   "execution_count": null,
   "metadata": {},
   "outputs": [],
   "source": [
    "x_628 = rating_mean('x_628')\n",
    "x_628"
   ]
  },
  {
   "cell_type": "code",
   "execution_count": null,
   "metadata": {},
   "outputs": [],
   "source": [
    "map_628 = x_628.set_index(0).to_dict()[1]\n",
    "train_part1['x_628'].replace(map_628, inplace=True)"
   ]
  },
  {
   "cell_type": "markdown",
   "metadata": {},
   "source": [
    "# All nun num - now numeric"
   ]
  },
  {
   "cell_type": "code",
   "execution_count": null,
   "metadata": {},
   "outputs": [],
   "source": [
    "train_part1[perspectively_signif_non_num_features].info()"
   ]
  },
  {
   "cell_type": "code",
   "execution_count": null,
   "metadata": {},
   "outputs": [],
   "source": [
    "train_part1.rename(columns={'x_12':'credit_rating', 'x_18':'day', 'x_21':'credit_purpose',\n",
    "                            'x_625':'city', 'x_628':'street'}, inplace = True)"
   ]
  },
  {
   "cell_type": "code",
   "execution_count": null,
   "metadata": {},
   "outputs": [],
   "source": [
    "train_part1.select_dtypes(exclude=object)"
   ]
  },
  {
   "cell_type": "markdown",
   "metadata": {},
   "source": [
    "## Compare correlations of recently non numeric but very important features"
   ]
  },
  {
   "cell_type": "code",
   "execution_count": null,
   "metadata": {},
   "outputs": [],
   "source": [
    "new_important = ['credit_rating', 'day', 'credit_purpose','city', 'street', 'x_13', 'x_19', 'x_614', 'x_615', 'x_634']"
   ]
  },
  {
   "cell_type": "code",
   "execution_count": null,
   "metadata": {},
   "outputs": [],
   "source": [
    "train_part1[new_important].info()"
   ]
  },
  {
   "cell_type": "code",
   "execution_count": null,
   "metadata": {},
   "outputs": [],
   "source": [
    "train_part1[new_important]"
   ]
  },
  {
   "cell_type": "code",
   "execution_count": null,
   "metadata": {},
   "outputs": [],
   "source": [
    "train_part1 = train_part1.select_dtypes(include=[float, int])"
   ]
  },
  {
   "cell_type": "code",
   "execution_count": null,
   "metadata": {},
   "outputs": [],
   "source": [
    "train_part1"
   ]
  },
  {
   "cell_type": "code",
   "execution_count": null,
   "metadata": {},
   "outputs": [],
   "source": [
    "comapre_data = train_part1.apply(lambda x: x.fillna(x.mean()),axis=0)"
   ]
  },
  {
   "cell_type": "code",
   "execution_count": null,
   "metadata": {},
   "outputs": [],
   "source": [
    "target = comapre_data.TARGET\n",
    "m = []\n",
    "cols = comapre_data.columns[:-2]\n",
    "for i in range(len(cols)):\n",
    "    m.append(target.corr(comapre_data.loc[:,cols[i]]))"
   ]
  },
  {
   "cell_type": "code",
   "execution_count": null,
   "metadata": {},
   "outputs": [],
   "source": [
    "cols"
   ]
  },
  {
   "cell_type": "code",
   "execution_count": null,
   "metadata": {},
   "outputs": [],
   "source": [
    "\n",
    "corr_data_1 = pd.DataFrame([cols, m]).T.iloc[:,:]\n",
    "corr_data_1 = corr_data_1.rename(columns={0:'feature', 1:'corr_with_target'})\n",
    "corr_data_1['corr_with_target'] = pd.to_numeric(corr_data_1['corr_with_target'])\n",
    "corr_data_1.plot();"
   ]
  },
  {
   "cell_type": "code",
   "execution_count": null,
   "metadata": {},
   "outputs": [],
   "source": [
    "corr_data_1.nlargest(45, 'corr_with_target')"
   ]
  },
  {
   "cell_type": "code",
   "execution_count": null,
   "metadata": {},
   "outputs": [],
   "source": [
    "corr_data_1.nsmallest(15, 'corr_with_target')"
   ]
  },
  {
   "cell_type": "code",
   "execution_count": null,
   "metadata": {},
   "outputs": [],
   "source": [
    "new_important.append('TARGET')"
   ]
  },
  {
   "cell_type": "code",
   "execution_count": null,
   "metadata": {},
   "outputs": [],
   "source": [
    "comapre_data[new_important]"
   ]
  },
  {
   "cell_type": "code",
   "execution_count": null,
   "metadata": {},
   "outputs": [],
   "source": [
    "target = comapre_data.TARGET\n",
    "m = []\n",
    "cols = comapre_data[new_important].columns\n",
    "for i in range(len(cols)-1):\n",
    "    m.append(target.corr(comapre_data.loc[:,cols[i]]))"
   ]
  },
  {
   "cell_type": "code",
   "execution_count": null,
   "metadata": {},
   "outputs": [],
   "source": [
    "corr_data_2 = pd.DataFrame([cols, m]).T.iloc[:,:]\n",
    "corr_data_2 = corr_data_2.rename(columns={0:'feature', 1:'corr_with_target'})\n",
    "corr_data_2['corr_with_target'] = pd.to_numeric(corr_data_2['corr_with_target'])\n",
    "corr_data_2.plot();"
   ]
  },
  {
   "cell_type": "code",
   "execution_count": null,
   "metadata": {},
   "outputs": [],
   "source": [
    "corr_data_2.sort_values(by = 'corr_with_target', ascending = False)"
   ]
  },
  {
   "cell_type": "code",
   "execution_count": null,
   "metadata": {},
   "outputs": [],
   "source": [
    "new_important = new_important[:-1]"
   ]
  },
  {
   "cell_type": "markdown",
   "metadata": {},
   "source": [
    "# Regressors"
   ]
  },
  {
   "cell_type": "code",
   "execution_count": null,
   "metadata": {},
   "outputs": [],
   "source": [
    "regressors = new_important + list(corr_data_1.nlargest(45, 'corr_with_target')['feature']) + list(corr_data_1.nsmallest(45, 'corr_with_target')['feature'])\n",
    "\n",
    "\n",
    "\n"
   ]
  },
  {
   "cell_type": "code",
   "execution_count": null,
   "metadata": {},
   "outputs": [],
   "source": [
    "regressors"
   ]
  },
  {
   "cell_type": "markdown",
   "metadata": {},
   "source": [
    "# SHAP values"
   ]
  },
  {
   "cell_type": "code",
   "execution_count": null,
   "metadata": {},
   "outputs": [],
   "source": [
    "import xgboost as xgb"
   ]
  },
  {
   "cell_type": "code",
   "execution_count": null,
   "metadata": {},
   "outputs": [],
   "source": [
    "comapre_data.drop(['x_646'], axis = 1)\n",
    "comapre_data.replace([np.inf, -np.inf], np.nan)\n",
    "comapre_data.dropna(inplace=True)\n",
    "comapre_data = comapre_data.astype('float16')\n",
    "\n",
    "X = comapre_data.drop(columns=['ID', 'TARGET'])\n",
    "y = comapre_data['TARGET']"
   ]
  },
  {
   "cell_type": "code",
   "execution_count": null,
   "metadata": {},
   "outputs": [],
   "source": [
    "X_train, X_test, y_train, y_test = train_test_split(X, y, random_state=1)\n",
    "xgb_model = xgb.XGBRegressor()\n",
    "xgb_model.fit(X_train, y_train)"
   ]
  },
  {
   "cell_type": "code",
   "execution_count": null,
   "metadata": {},
   "outputs": [],
   "source": [
    "import shap  # package used to calculate Shap values\n",
    "\n",
    "# Create object that can calculate shap values\n",
    "explainer = shap.TreeExplainer(xgb_model)\n",
    "\n",
    "# Calculate Shap values\n",
    "shap_values = explainer.shap_values(X_test)"
   ]
  },
  {
   "cell_type": "code",
   "execution_count": null,
   "metadata": {},
   "outputs": [],
   "source": [
    "# use Kernel SHAP to explain test set predictions\n",
    "k_explainer = shap.KernelExplainer(xgb_model, X_train)\n",
    "k_shap_values = k_explainer.shap_values(X_test)\n",
    "shap.force_plot(k_explainer.expected_value[1], k_shap_values[1], data_for_prediction)"
   ]
  },
  {
   "cell_type": "code",
   "execution_count": null,
   "metadata": {},
   "outputs": [],
   "source": [
    "train_part1.info()"
   ]
  },
  {
   "cell_type": "code",
   "execution_count": null,
   "metadata": {},
   "outputs": [],
   "source": [
    "comapre_data.info()"
   ]
  },
  {
   "cell_type": "markdown",
   "metadata": {},
   "source": [
    "# Only non numeric and 1000"
   ]
  },
  {
   "cell_type": "code",
   "execution_count": null,
   "metadata": {},
   "outputs": [],
   "source": [
    "X = comapre_data[new_important].iloc[:1000,:]\n",
    "y = comapre_data['TARGET'][:1000]"
   ]
  },
  {
   "cell_type": "code",
   "execution_count": null,
   "metadata": {},
   "outputs": [],
   "source": [
    "X_train, X_test, y_train, y_test = train_test_split(X, y, random_state=1)\n",
    "xgb_model = xgb.XGBRegressor()\n",
    "xgb_model.fit(X_train, y_train)\n"
   ]
  },
  {
   "cell_type": "code",
   "execution_count": null,
   "metadata": {},
   "outputs": [],
   "source": [
    "y_pred = xgb_model.predict(X_test)\n",
    "y_pred_train = xgb_model.predict(X_train)"
   ]
  },
  {
   "cell_type": "code",
   "execution_count": null,
   "metadata": {},
   "outputs": [],
   "source": []
  },
  {
   "cell_type": "code",
   "execution_count": null,
   "metadata": {},
   "outputs": [],
   "source": [
    "roc_auc_score(y_test, y_pred)"
   ]
  },
  {
   "cell_type": "code",
   "execution_count": null,
   "metadata": {},
   "outputs": [],
   "source": [
    "roc_auc_score(y_train, y_pred_train)"
   ]
  },
  {
   "cell_type": "markdown",
   "metadata": {},
   "source": [
    "# All and 1000"
   ]
  },
  {
   "cell_type": "code",
   "execution_count": null,
   "metadata": {},
   "outputs": [],
   "source": [
    "X = comapre_data.iloc[:1000,:]\n",
    "y = comapre_data['TARGET'][:1000]"
   ]
  },
  {
   "cell_type": "code",
   "execution_count": null,
   "metadata": {},
   "outputs": [],
   "source": [
    "X_train, X_test, y_train, y_test = train_test_split(X, y, random_state=1)\n",
    "xgb_model = xgb.XGBRegressor()\n",
    "xgb_model.fit(X_train, y_train)\n"
   ]
  },
  {
   "cell_type": "code",
   "execution_count": null,
   "metadata": {},
   "outputs": [],
   "source": [
    "y_pred = xgb_model.predict(X_test)\n",
    "y_pred_train = xgb_model.predict(X_train)"
   ]
  },
  {
   "cell_type": "code",
   "execution_count": null,
   "metadata": {},
   "outputs": [],
   "source": [
    "roc_auc_score(y_test, y_pred)"
   ]
  },
  {
   "cell_type": "code",
   "execution_count": null,
   "metadata": {},
   "outputs": [],
   "source": [
    "roc_auc_score(y_train, y_pred_train)"
   ]
  },
  {
   "cell_type": "code",
   "execution_count": null,
   "metadata": {},
   "outputs": [],
   "source": [
    "y_test.value_counts()"
   ]
  },
  {
   "cell_type": "code",
   "execution_count": null,
   "metadata": {},
   "outputs": [],
   "source": []
  },
  {
   "cell_type": "code",
   "execution_count": null,
   "metadata": {},
   "outputs": [],
   "source": []
  },
  {
   "cell_type": "code",
   "execution_count": null,
   "metadata": {},
   "outputs": [],
   "source": []
  },
  {
   "cell_type": "code",
   "execution_count": null,
   "metadata": {},
   "outputs": [],
   "source": [
    "space = {\n",
    "    'class_weight': hp.choice('class_weight', [None, 'balanced']),\n",
    "    'warm_start' : hp.choice('warm_start', [True, False]),\n",
    "    'fit_intercept' : hp.choice('fit_intercept', [True, False]),\n",
    "    'tol' : hp.loguniform('tol', 0.00001, 10),\n",
    "    'C' : hp.loguniform('C', 1, 5000),\n",
    "    'solver' : hp.choice('solver', ['newton-cg', 'lbfgs', 'liblinear', 'sag', 'saga']),\n",
    "    'max_iter' : hp.choice('max_iter', range(5,1000))\n",
    "}\n",
    "\n",
    "space_dict = {\n",
    "    'class_weight': [None, 'balanced'],\n",
    "    'warm_start' : [True, False],\n",
    "    'fit_intercept' : [True, False],\n",
    "    'solver' : ['newton-cg', 'lbfgs', 'liblinear', 'sag', 'saga']\n",
    "}"
   ]
  }
 ],
 "metadata": {
  "kernelspec": {
   "display_name": "Python 3",
   "language": "python",
   "name": "python3"
  },
  "language_info": {
   "codemirror_mode": {
    "name": "ipython",
    "version": 3
   },
   "file_extension": ".py",
   "mimetype": "text/x-python",
   "name": "python",
   "nbconvert_exporter": "python",
   "pygments_lexer": "ipython3",
   "version": "3.8.3"
  }
 },
 "nbformat": 4,
 "nbformat_minor": 4
}
